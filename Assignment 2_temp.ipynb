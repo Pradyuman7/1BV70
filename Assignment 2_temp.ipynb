{
 "cells": [
  {
   "cell_type": "markdown",
   "id": "14aafa7c-13ed-48eb-b792-baabfb59484d",
   "metadata": {},
   "source": [
    "# Assignment 2, Exercise 1, Classification"
   ]
  },
  {
   "cell_type": "markdown",
   "id": "93f410b6-48d5-4c0d-87bb-8f54b54d1a46",
   "metadata": {},
   "source": [
    "## Import Libraries"
   ]
  },
  {
   "cell_type": "code",
   "execution_count": 87,
   "id": "e01350ad-274e-481d-b89c-b5cccb3b6a7c",
   "metadata": {
    "ExecuteTime": {
     "end_time": "2025-05-28T20:34:12.841471Z",
     "start_time": "2025-05-28T20:34:12.777450Z"
    }
   },
   "outputs": [],
   "source": [
    "import pandas as pd\n",
    "import numpy as np\n",
    "import matplotlib.pyplot as plt\n",
    "import seaborn as sns\n",
    "from sklearn.preprocessing import StandardScaler\n",
    "from sklearn.model_selection import train_test_split\n",
    "from sklearn.linear_model import LogisticRegression\n",
    "from sklearn.model_selection import GridSearchCV\n",
    "from sklearn.tree import DecisionTreeClassifier\n",
    "from sklearn.metrics import confusion_matrix, precision_score, recall_score, accuracy_score\n"
   ]
  },
  {
   "cell_type": "markdown",
   "id": "1415d75c-210a-4b04-8f95-71973bd962b4",
   "metadata": {},
   "source": [
    "## Implementations"
   ]
  },
  {
   "cell_type": "code",
   "execution_count": 88,
   "id": "53125d6f-30cc-400a-bd76-986c80467993",
   "metadata": {
    "ExecuteTime": {
     "end_time": "2025-05-28T20:34:12.841728Z",
     "start_time": "2025-05-28T20:34:12.783460Z"
    }
   },
   "outputs": [],
   "source": [
    "def read_infections_data():\n",
    "    \"\"\"Read in the csv data into a dataframe and perform the correct conversion of associated categorical values, and their data-types as well.\"\"\"\n",
    "    infections_data = pd.read_csv(\"Pneumonia Infections.csv\")\n",
    "    infections_data.columns = [c.replace(' ', '_') for c in infections_data.columns]\n",
    "    \n",
    "    # gender mapping\n",
    "    infections_data['Gender'] = infections_data['Gender'].map({'Other': 0, 'Female': 1, 'Male': 2})\n",
    "    infections_data['Gender'] = pd.to_numeric(infections_data['Gender'])\n",
    "    \n",
    "    # smoker mapping\n",
    "    infections_data['Smoker'] = infections_data['Smoker'].map({'No': 0, 'Yes': 1})\n",
    "    infections_data['Smoker'] = pd.to_numeric(infections_data['Smoker'])\n",
    "\n",
    "    # pnumonia_diagnosed mapping\n",
    "    infections_data['Pneumonia_diagnosed'] = infections_data['Pneumonia_diagnosed'].map({'No': 0, 'Yes': 1})\n",
    "    infections_data['Pneumonia_diagnosed'] = pd.to_numeric(infections_data['Pneumonia_diagnosed'])\n",
    "\n",
    "    return infections_data"
   ]
  },
  {
   "cell_type": "code",
   "execution_count": 89,
   "id": "b3fef339-4476-4e2c-932a-e1ea5cce14a0",
   "metadata": {
    "ExecuteTime": {
     "end_time": "2025-05-28T20:34:12.879658Z",
     "start_time": "2025-05-28T20:34:12.791672Z"
    }
   },
   "outputs": [],
   "source": [
    "def remove_erronous_observations(infections_data):\n",
    "    \"\"\"Write a function that excludes erronous observations.\"\"\"\n",
    "    infections_data_cleaned = infections_data.dropna().reset_index(drop=True)\n",
    "    return infections_data_cleaned"
   ]
  },
  {
   "cell_type": "code",
   "execution_count": 90,
   "id": "3e6082c5-05ef-494e-99d9-31ec9f5cbd33",
   "metadata": {
    "ExecuteTime": {
     "end_time": "2025-05-28T20:34:12.880857Z",
     "start_time": "2025-05-28T20:34:12.799143Z"
    }
   },
   "outputs": [],
   "source": [
    "def remove_redundant_features(infections_data, corr_threshold=0.8):\n",
    "    \"\"\"Write a function that excludes redundant input features that have no effect or are highly correlated with other feautres.\"\"\"\n",
    "    \n",
    "    # remove identifer\n",
    "    infections_data = infections_data.drop(columns=['Paitent_#'])\n",
    "    \n",
    "    corr_matrix = infections_data.corr().abs()\n",
    "    upper = corr_matrix.where(np.triu(np.ones(corr_matrix.shape), k=1).astype(bool))\n",
    "    \n",
    "    to_drop = [column for column in upper.columns if any(upper[column] > corr_threshold)]\n",
    "    infections_data = infections_data.drop(columns=to_drop)\n",
    "    \n",
    "    # plot\n",
    "    plt.figure(figsize=(10, 8))\n",
    "    sns.heatmap(corr_matrix, annot=True, cmap=\"coolwarm\", fmt=\".2f\")\n",
    "    plt.title(\"Correlation Matrix\")\n",
    "    plt.show()\n",
    "    \n",
    "    return infections_data"
   ]
  },
  {
   "cell_type": "code",
   "execution_count": 91,
   "id": "3a364c1c-b766-4821-81b0-68711282e29e",
   "metadata": {
    "ExecuteTime": {
     "end_time": "2025-05-28T20:34:12.881056Z",
     "start_time": "2025-05-28T20:34:12.808003Z"
    }
   },
   "outputs": [],
   "source": [
    "def standardize_and_categorize_features(infections_data):\n",
    "    \"\"\"Write a function that standardizes numerical features and performs one-hot encoding on categorical features\"\"\"\n",
    "    \n",
    "    cat_cols = infections_data.select_dtypes(include=['object', 'category']).columns.tolist()\n",
    "    num_cols = infections_data.select_dtypes(include=['float64', 'int64']).drop(columns=['Pneumonia_diagnosed']).columns.tolist()\n",
    "\n",
    "    # for numerical columns\n",
    "    scaler = StandardScaler()\n",
    "    infections_data[num_cols] = scaler.fit_transform(infections_data[num_cols])\n",
    "\n",
    "    # for categorical features\n",
    "    infections_data = pd.get_dummies(infections_data, columns=cat_cols, drop_first=True)\n",
    "    \n",
    "    return infections_data"
   ]
  },
  {
   "cell_type": "code",
   "execution_count": 92,
   "id": "53aad340-8428-4042-befa-285e44bb4372",
   "metadata": {
    "ExecuteTime": {
     "end_time": "2025-05-28T20:34:13.568810Z",
     "start_time": "2025-05-28T20:34:13.432220Z"
    }
   },
   "outputs": [],
   "source": [
    "def split_train_test(infections_data, seed=2):\n",
    "    return train_test_split(infections_data.drop(columns=['Pneumonia_diagnosed']), infections_data['Pneumonia_diagnosed'], test_size=0.25, random_state=seed)\n",
    "\n"
   ]
  },
  {
   "cell_type": "code",
   "execution_count": 93,
   "id": "562f55b2-5fc5-4163-af31-d38d3256be50",
   "metadata": {
    "ExecuteTime": {
     "start_time": "2025-05-28T20:34:13.442731Z"
    }
   },
   "outputs": [],
   "source": [
    "def train_LR(X_train, y_train, cv_folds=5):\n",
    "    # We set cv_folds to 5 by default, since it is recommended for a dataset of this size\n",
    "    parameters = {\n",
    "        'C': [0.0001, 0.001, 0.01, 0.1, 1, 10, 100], # Reg strength\n",
    "        'penalty': ['l1', 'l2'] # Reg type\n",
    "    }\n",
    "\n",
    "    # Since it is most important to avoid false negatives in this case, we will use recall as the scoring metric\n",
    "    grid = GridSearchCV(estimator=LogisticRegression(solver='liblinear', max_iter=1000, class_weight='balanced'), param_grid=parameters, cv=cv_folds, scoring='recall')\n",
    "    grid.fit(X_train, y_train)\n",
    "\n",
    "    return grid.best_estimator_, grid.best_params_, grid\n"
   ]
  },
  {
   "cell_type": "code",
   "execution_count": 94,
   "id": "37edb223-7b3f-4e01-a357-533d0153498d",
   "metadata": {
    "ExecuteTime": {
     "start_time": "2025-05-28T20:34:13.445633Z"
    }
   },
   "outputs": [],
   "source": [
    "def train_DT(X_train, y_train, cv_folds=5, seed=2):\n",
    "    # We set cv_folds to 5 by default, since it is recommended for a dataset of this size\n",
    "    parameters = {\n",
    "        'max_depth': [3, 5, 10, 20, None], # We use max_depth to control overfitting\n",
    "        'min_samples_split': [2, 5, 10],\n",
    "        'criterion': ['gini', 'entropy']\n",
    "    }\n",
    "\n",
    "    # Since it is most important to avoid false negatives in this case, we will use recall as the scoring metric\n",
    "    grid = GridSearchCV(estimator=DecisionTreeClassifier(random_state=seed, class_weight='balanced'), param_grid=parameters, cv=cv_folds, scoring='recall')\n",
    "    grid.fit(X_train, y_train)\n",
    "\n",
    "    return grid.best_estimator_, grid.best_params_, grid"
   ]
  },
  {
   "cell_type": "code",
   "execution_count": 95,
   "id": "7bee82f4-7dae-41fc-8d29-1715bb068a05",
   "metadata": {
    "ExecuteTime": {
     "start_time": "2025-05-28T20:34:13.448989Z"
    }
   },
   "outputs": [],
   "source": [
    "def train_LR_best_params(X_train, y_train, best_params, seed=2):\n",
    "    solver = 'liblinear' if best_params.get('penalty') == 'l1' else 'lbfgs'\n",
    "\n",
    "    model = LogisticRegression(**best_params, max_iter=1000, random_state=seed, class_weight='balanced', solver=solver)\n",
    "    model.fit(X_train, y_train)\n",
    "    return model"
   ]
  },
  {
   "cell_type": "code",
   "execution_count": 96,
   "id": "ff10a82b-b527-460b-8805-aea800763764",
   "metadata": {
    "ExecuteTime": {
     "start_time": "2025-05-28T20:34:13.452367Z"
    }
   },
   "outputs": [],
   "source": [
    "def train_DT_best_params(X_train, y_train, best_params, seed=2):\n",
    "    model = DecisionTreeClassifier(**best_params, random_state=seed, class_weight='balanced')\n",
    "    model.fit(X_train, y_train)\n",
    "    return model"
   ]
  },
  {
   "cell_type": "code",
   "execution_count": 97,
   "id": "c3b1b64b-7a1d-40cc-9e09-80fa40633b6b",
   "metadata": {
    "ExecuteTime": {
     "start_time": "2025-05-28T20:34:13.457087Z"
    }
   },
   "outputs": [],
   "source": [
    "def predict_evaluate(model_lr, model_dt, X_test, y_test):\n",
    "    results = {}\n",
    "    for name, model in [('Logistic Regression', model_lr), ('Decision Tree', model_dt)]:\n",
    "        y_pred = model.predict(X_test)\n",
    "\n",
    "        cm = confusion_matrix(y_test, y_pred)\n",
    "        precision = precision_score(y_test, y_pred, zero_division=0)\n",
    "        recall = recall_score(y_test, y_pred, zero_division=0)\n",
    "        accuracy = accuracy_score(y_test, y_pred)\n",
    "\n",
    "        results[name] = {\n",
    "            'Precision': precision,\n",
    "            'Recall': recall,\n",
    "            'Accuracy': accuracy\n",
    "        }\n",
    "        plt.figure(figsize=(5, 4))\n",
    "        sns.heatmap(cm, annot=True, fmt='d', cmap='Blues')\n",
    "        plt.title(f'Confusion Matrix - {name}')\n",
    "        plt.xlabel('Predicted')\n",
    "        plt.ylabel('Actual')\n",
    "        plt.show()\n",
    "\n",
    "    return results"
   ]
  },
  {
   "cell_type": "code",
   "execution_count": 98,
   "id": "920e3415",
   "metadata": {},
   "outputs": [
    {
     "name": "stdout",
     "output_type": "stream",
     "text": [
      "Raw data preview:\n"
     ]
    },
    {
     "data": {
      "text/html": [
       "<div>\n",
       "<style scoped>\n",
       "    .dataframe tbody tr th:only-of-type {\n",
       "        vertical-align: middle;\n",
       "    }\n",
       "\n",
       "    .dataframe tbody tr th {\n",
       "        vertical-align: top;\n",
       "    }\n",
       "\n",
       "    .dataframe thead th {\n",
       "        text-align: right;\n",
       "    }\n",
       "</style>\n",
       "<table border=\"1\" class=\"dataframe\">\n",
       "  <thead>\n",
       "    <tr style=\"text-align: right;\">\n",
       "      <th></th>\n",
       "      <th>Paitent_#</th>\n",
       "      <th>Age</th>\n",
       "      <th>Weight</th>\n",
       "      <th>Gender</th>\n",
       "      <th>Smoker</th>\n",
       "      <th>Income</th>\n",
       "      <th>Insurance_Coverage</th>\n",
       "      <th>Exercise_freqeuncy</th>\n",
       "      <th>Previous_Hosptalizations</th>\n",
       "      <th>Heart_Rate</th>\n",
       "      <th>Pneumonia_diagnosed</th>\n",
       "    </tr>\n",
       "  </thead>\n",
       "  <tbody>\n",
       "    <tr>\n",
       "      <th>0</th>\n",
       "      <td>1</td>\n",
       "      <td>58.0</td>\n",
       "      <td>88</td>\n",
       "      <td>1</td>\n",
       "      <td>1</td>\n",
       "      <td>90000.0</td>\n",
       "      <td>2213.0</td>\n",
       "      <td>1</td>\n",
       "      <td>3.0</td>\n",
       "      <td>106</td>\n",
       "      <td>0.0</td>\n",
       "    </tr>\n",
       "    <tr>\n",
       "      <th>1</th>\n",
       "      <td>2</td>\n",
       "      <td>58.0</td>\n",
       "      <td>98</td>\n",
       "      <td>1</td>\n",
       "      <td>0</td>\n",
       "      <td>31000.0</td>\n",
       "      <td>1448.0</td>\n",
       "      <td>5</td>\n",
       "      <td>0.0</td>\n",
       "      <td>83</td>\n",
       "      <td>0.0</td>\n",
       "    </tr>\n",
       "    <tr>\n",
       "      <th>2</th>\n",
       "      <td>3</td>\n",
       "      <td>39.0</td>\n",
       "      <td>99</td>\n",
       "      <td>1</td>\n",
       "      <td>0</td>\n",
       "      <td>33000.0</td>\n",
       "      <td>546.0</td>\n",
       "      <td>1</td>\n",
       "      <td>2.0</td>\n",
       "      <td>87</td>\n",
       "      <td>0.0</td>\n",
       "    </tr>\n",
       "    <tr>\n",
       "      <th>3</th>\n",
       "      <td>4</td>\n",
       "      <td>19.0</td>\n",
       "      <td>52</td>\n",
       "      <td>1</td>\n",
       "      <td>0</td>\n",
       "      <td>95000.0</td>\n",
       "      <td>575.0</td>\n",
       "      <td>4</td>\n",
       "      <td>1.0</td>\n",
       "      <td>83</td>\n",
       "      <td>0.0</td>\n",
       "    </tr>\n",
       "    <tr>\n",
       "      <th>4</th>\n",
       "      <td>5</td>\n",
       "      <td>75.0</td>\n",
       "      <td>77</td>\n",
       "      <td>1</td>\n",
       "      <td>0</td>\n",
       "      <td>57000.0</td>\n",
       "      <td>1879.0</td>\n",
       "      <td>1</td>\n",
       "      <td>6.0</td>\n",
       "      <td>104</td>\n",
       "      <td>0.0</td>\n",
       "    </tr>\n",
       "  </tbody>\n",
       "</table>\n",
       "</div>"
      ],
      "text/plain": [
       "   Paitent_#   Age  Weight  Gender  Smoker   Income  Insurance_Coverage  \\\n",
       "0          1  58.0      88       1       1  90000.0              2213.0   \n",
       "1          2  58.0      98       1       0  31000.0              1448.0   \n",
       "2          3  39.0      99       1       0  33000.0               546.0   \n",
       "3          4  19.0      52       1       0  95000.0               575.0   \n",
       "4          5  75.0      77       1       0  57000.0              1879.0   \n",
       "\n",
       "   Exercise_freqeuncy  Previous_Hosptalizations  Heart_Rate  \\\n",
       "0                   1                       3.0         106   \n",
       "1                   5                       0.0          83   \n",
       "2                   1                       2.0          87   \n",
       "3                   4                       1.0          83   \n",
       "4                   1                       6.0         104   \n",
       "\n",
       "   Pneumonia_diagnosed  \n",
       "0                  0.0  \n",
       "1                  0.0  \n",
       "2                  0.0  \n",
       "3                  0.0  \n",
       "4                  0.0  "
      ]
     },
     "metadata": {},
     "output_type": "display_data"
    },
    {
     "name": "stdout",
     "output_type": "stream",
     "text": [
      "After removing erroneous observations:\n"
     ]
    },
    {
     "data": {
      "text/html": [
       "<div>\n",
       "<style scoped>\n",
       "    .dataframe tbody tr th:only-of-type {\n",
       "        vertical-align: middle;\n",
       "    }\n",
       "\n",
       "    .dataframe tbody tr th {\n",
       "        vertical-align: top;\n",
       "    }\n",
       "\n",
       "    .dataframe thead th {\n",
       "        text-align: right;\n",
       "    }\n",
       "</style>\n",
       "<table border=\"1\" class=\"dataframe\">\n",
       "  <thead>\n",
       "    <tr style=\"text-align: right;\">\n",
       "      <th></th>\n",
       "      <th>Paitent_#</th>\n",
       "      <th>Age</th>\n",
       "      <th>Weight</th>\n",
       "      <th>Gender</th>\n",
       "      <th>Smoker</th>\n",
       "      <th>Income</th>\n",
       "      <th>Insurance_Coverage</th>\n",
       "      <th>Exercise_freqeuncy</th>\n",
       "      <th>Previous_Hosptalizations</th>\n",
       "      <th>Heart_Rate</th>\n",
       "      <th>Pneumonia_diagnosed</th>\n",
       "    </tr>\n",
       "  </thead>\n",
       "  <tbody>\n",
       "    <tr>\n",
       "      <th>0</th>\n",
       "      <td>1</td>\n",
       "      <td>58.0</td>\n",
       "      <td>88</td>\n",
       "      <td>1</td>\n",
       "      <td>1</td>\n",
       "      <td>90000.0</td>\n",
       "      <td>2213.0</td>\n",
       "      <td>1</td>\n",
       "      <td>3.0</td>\n",
       "      <td>106</td>\n",
       "      <td>0.0</td>\n",
       "    </tr>\n",
       "    <tr>\n",
       "      <th>1</th>\n",
       "      <td>2</td>\n",
       "      <td>58.0</td>\n",
       "      <td>98</td>\n",
       "      <td>1</td>\n",
       "      <td>0</td>\n",
       "      <td>31000.0</td>\n",
       "      <td>1448.0</td>\n",
       "      <td>5</td>\n",
       "      <td>0.0</td>\n",
       "      <td>83</td>\n",
       "      <td>0.0</td>\n",
       "    </tr>\n",
       "    <tr>\n",
       "      <th>2</th>\n",
       "      <td>3</td>\n",
       "      <td>39.0</td>\n",
       "      <td>99</td>\n",
       "      <td>1</td>\n",
       "      <td>0</td>\n",
       "      <td>33000.0</td>\n",
       "      <td>546.0</td>\n",
       "      <td>1</td>\n",
       "      <td>2.0</td>\n",
       "      <td>87</td>\n",
       "      <td>0.0</td>\n",
       "    </tr>\n",
       "    <tr>\n",
       "      <th>3</th>\n",
       "      <td>4</td>\n",
       "      <td>19.0</td>\n",
       "      <td>52</td>\n",
       "      <td>1</td>\n",
       "      <td>0</td>\n",
       "      <td>95000.0</td>\n",
       "      <td>575.0</td>\n",
       "      <td>4</td>\n",
       "      <td>1.0</td>\n",
       "      <td>83</td>\n",
       "      <td>0.0</td>\n",
       "    </tr>\n",
       "    <tr>\n",
       "      <th>4</th>\n",
       "      <td>5</td>\n",
       "      <td>75.0</td>\n",
       "      <td>77</td>\n",
       "      <td>1</td>\n",
       "      <td>0</td>\n",
       "      <td>57000.0</td>\n",
       "      <td>1879.0</td>\n",
       "      <td>1</td>\n",
       "      <td>6.0</td>\n",
       "      <td>104</td>\n",
       "      <td>0.0</td>\n",
       "    </tr>\n",
       "  </tbody>\n",
       "</table>\n",
       "</div>"
      ],
      "text/plain": [
       "   Paitent_#   Age  Weight  Gender  Smoker   Income  Insurance_Coverage  \\\n",
       "0          1  58.0      88       1       1  90000.0              2213.0   \n",
       "1          2  58.0      98       1       0  31000.0              1448.0   \n",
       "2          3  39.0      99       1       0  33000.0               546.0   \n",
       "3          4  19.0      52       1       0  95000.0               575.0   \n",
       "4          5  75.0      77       1       0  57000.0              1879.0   \n",
       "\n",
       "   Exercise_freqeuncy  Previous_Hosptalizations  Heart_Rate  \\\n",
       "0                   1                       3.0         106   \n",
       "1                   5                       0.0          83   \n",
       "2                   1                       2.0          87   \n",
       "3                   4                       1.0          83   \n",
       "4                   1                       6.0         104   \n",
       "\n",
       "   Pneumonia_diagnosed  \n",
       "0                  0.0  \n",
       "1                  0.0  \n",
       "2                  0.0  \n",
       "3                  0.0  \n",
       "4                  0.0  "
      ]
     },
     "metadata": {},
     "output_type": "display_data"
    },
    {
     "data": {
      "image/png": "[encoded data removed]",
      "text/plain": [
       "<Figure size 1000x800 with 2 Axes>"
      ]
     },
     "metadata": {},
     "output_type": "display_data"
    },
    {
     "name": "stdout",
     "output_type": "stream",
     "text": [
      "After removing redundant features:\n"
     ]
    },
    {
     "data": {
      "text/html": [
       "<div>\n",
       "<style scoped>\n",
       "    .dataframe tbody tr th:only-of-type {\n",
       "        vertical-align: middle;\n",
       "    }\n",
       "\n",
       "    .dataframe tbody tr th {\n",
       "        vertical-align: top;\n",
       "    }\n",
       "\n",
       "    .dataframe thead th {\n",
       "        text-align: right;\n",
       "    }\n",
       "</style>\n",
       "<table border=\"1\" class=\"dataframe\">\n",
       "  <thead>\n",
       "    <tr style=\"text-align: right;\">\n",
       "      <th></th>\n",
       "      <th>Age</th>\n",
       "      <th>Weight</th>\n",
       "      <th>Gender</th>\n",
       "      <th>Smoker</th>\n",
       "      <th>Income</th>\n",
       "      <th>Insurance_Coverage</th>\n",
       "      <th>Exercise_freqeuncy</th>\n",
       "      <th>Previous_Hosptalizations</th>\n",
       "      <th>Heart_Rate</th>\n",
       "      <th>Pneumonia_diagnosed</th>\n",
       "    </tr>\n",
       "  </thead>\n",
       "  <tbody>\n",
       "    <tr>\n",
       "      <th>0</th>\n",
       "      <td>58.0</td>\n",
       "      <td>88</td>\n",
       "      <td>1</td>\n",
       "      <td>1</td>\n",
       "      <td>90000.0</td>\n",
       "      <td>2213.0</td>\n",
       "      <td>1</td>\n",
       "      <td>3.0</td>\n",
       "      <td>106</td>\n",
       "      <td>0.0</td>\n",
       "    </tr>\n",
       "    <tr>\n",
       "      <th>1</th>\n",
       "      <td>58.0</td>\n",
       "      <td>98</td>\n",
       "      <td>1</td>\n",
       "      <td>0</td>\n",
       "      <td>31000.0</td>\n",
       "      <td>1448.0</td>\n",
       "      <td>5</td>\n",
       "      <td>0.0</td>\n",
       "      <td>83</td>\n",
       "      <td>0.0</td>\n",
       "    </tr>\n",
       "    <tr>\n",
       "      <th>2</th>\n",
       "      <td>39.0</td>\n",
       "      <td>99</td>\n",
       "      <td>1</td>\n",
       "      <td>0</td>\n",
       "      <td>33000.0</td>\n",
       "      <td>546.0</td>\n",
       "      <td>1</td>\n",
       "      <td>2.0</td>\n",
       "      <td>87</td>\n",
       "      <td>0.0</td>\n",
       "    </tr>\n",
       "    <tr>\n",
       "      <th>3</th>\n",
       "      <td>19.0</td>\n",
       "      <td>52</td>\n",
       "      <td>1</td>\n",
       "      <td>0</td>\n",
       "      <td>95000.0</td>\n",
       "      <td>575.0</td>\n",
       "      <td>4</td>\n",
       "      <td>1.0</td>\n",
       "      <td>83</td>\n",
       "      <td>0.0</td>\n",
       "    </tr>\n",
       "    <tr>\n",
       "      <th>4</th>\n",
       "      <td>75.0</td>\n",
       "      <td>77</td>\n",
       "      <td>1</td>\n",
       "      <td>0</td>\n",
       "      <td>57000.0</td>\n",
       "      <td>1879.0</td>\n",
       "      <td>1</td>\n",
       "      <td>6.0</td>\n",
       "      <td>104</td>\n",
       "      <td>0.0</td>\n",
       "    </tr>\n",
       "  </tbody>\n",
       "</table>\n",
       "</div>"
      ],
      "text/plain": [
       "    Age  Weight  Gender  Smoker   Income  Insurance_Coverage  \\\n",
       "0  58.0      88       1       1  90000.0              2213.0   \n",
       "1  58.0      98       1       0  31000.0              1448.0   \n",
       "2  39.0      99       1       0  33000.0               546.0   \n",
       "3  19.0      52       1       0  95000.0               575.0   \n",
       "4  75.0      77       1       0  57000.0              1879.0   \n",
       "\n",
       "   Exercise_freqeuncy  Previous_Hosptalizations  Heart_Rate  \\\n",
       "0                   1                       3.0         106   \n",
       "1                   5                       0.0          83   \n",
       "2                   1                       2.0          87   \n",
       "3                   4                       1.0          83   \n",
       "4                   1                       6.0         104   \n",
       "\n",
       "   Pneumonia_diagnosed  \n",
       "0                  0.0  \n",
       "1                  0.0  \n",
       "2                  0.0  \n",
       "3                  0.0  \n",
       "4                  0.0  "
      ]
     },
     "metadata": {},
     "output_type": "display_data"
    },
    {
     "name": "stdout",
     "output_type": "stream",
     "text": [
      "After standardizing and categorizing features:\n"
     ]
    },
    {
     "data": {
      "text/html": [
       "<div>\n",
       "<style scoped>\n",
       "    .dataframe tbody tr th:only-of-type {\n",
       "        vertical-align: middle;\n",
       "    }\n",
       "\n",
       "    .dataframe tbody tr th {\n",
       "        vertical-align: top;\n",
       "    }\n",
       "\n",
       "    .dataframe thead th {\n",
       "        text-align: right;\n",
       "    }\n",
       "</style>\n",
       "<table border=\"1\" class=\"dataframe\">\n",
       "  <thead>\n",
       "    <tr style=\"text-align: right;\">\n",
       "      <th></th>\n",
       "      <th>Age</th>\n",
       "      <th>Weight</th>\n",
       "      <th>Gender</th>\n",
       "      <th>Smoker</th>\n",
       "      <th>Income</th>\n",
       "      <th>Insurance_Coverage</th>\n",
       "      <th>Exercise_freqeuncy</th>\n",
       "      <th>Previous_Hosptalizations</th>\n",
       "      <th>Heart_Rate</th>\n",
       "      <th>Pneumonia_diagnosed</th>\n",
       "    </tr>\n",
       "  </thead>\n",
       "  <tbody>\n",
       "    <tr>\n",
       "      <th>0</th>\n",
       "      <td>0.668324</td>\n",
       "      <td>0.195164</td>\n",
       "      <td>-0.592644</td>\n",
       "      <td>2.026809</td>\n",
       "      <td>1.244912</td>\n",
       "      <td>0.789046</td>\n",
       "      <td>-1.383068</td>\n",
       "      <td>0.174535</td>\n",
       "      <td>0.877208</td>\n",
       "      <td>0.0</td>\n",
       "    </tr>\n",
       "    <tr>\n",
       "      <th>1</th>\n",
       "      <td>0.668324</td>\n",
       "      <td>0.739934</td>\n",
       "      <td>-0.592644</td>\n",
       "      <td>-0.493386</td>\n",
       "      <td>-1.467703</td>\n",
       "      <td>-0.187471</td>\n",
       "      <td>1.425768</td>\n",
       "      <td>-1.063116</td>\n",
       "      <td>-1.132026</td>\n",
       "      <td>0.0</td>\n",
       "    </tr>\n",
       "    <tr>\n",
       "      <th>2</th>\n",
       "      <td>-0.456665</td>\n",
       "      <td>0.794411</td>\n",
       "      <td>-0.592644</td>\n",
       "      <td>-0.493386</td>\n",
       "      <td>-1.375750</td>\n",
       "      <td>-1.338868</td>\n",
       "      <td>-1.383068</td>\n",
       "      <td>-0.238016</td>\n",
       "      <td>-0.782594</td>\n",
       "      <td>0.0</td>\n",
       "    </tr>\n",
       "    <tr>\n",
       "      <th>3</th>\n",
       "      <td>-1.640865</td>\n",
       "      <td>-1.766010</td>\n",
       "      <td>-0.592644</td>\n",
       "      <td>-0.493386</td>\n",
       "      <td>1.474795</td>\n",
       "      <td>-1.301849</td>\n",
       "      <td>0.723559</td>\n",
       "      <td>-0.650566</td>\n",
       "      <td>-1.132026</td>\n",
       "      <td>0.0</td>\n",
       "    </tr>\n",
       "    <tr>\n",
       "      <th>4</th>\n",
       "      <td>1.674893</td>\n",
       "      <td>-0.404083</td>\n",
       "      <td>-0.592644</td>\n",
       "      <td>-0.493386</td>\n",
       "      <td>-0.272313</td>\n",
       "      <td>0.362697</td>\n",
       "      <td>-1.383068</td>\n",
       "      <td>1.412185</td>\n",
       "      <td>0.702492</td>\n",
       "      <td>0.0</td>\n",
       "    </tr>\n",
       "  </tbody>\n",
       "</table>\n",
       "</div>"
      ],
      "text/plain": [
       "        Age    Weight    Gender    Smoker    Income  Insurance_Coverage  \\\n",
       "0  0.668324  0.195164 -0.592644  2.026809  1.244912            0.789046   \n",
       "1  0.668324  0.739934 -0.592644 -0.493386 -1.467703           -0.187471   \n",
       "2 -0.456665  0.794411 -0.592644 -0.493386 -1.375750           -1.338868   \n",
       "3 -1.640865 -1.766010 -0.592644 -0.493386  1.474795           -1.301849   \n",
       "4  1.674893 -0.404083 -0.592644 -0.493386 -0.272313            0.362697   \n",
       "\n",
       "   Exercise_freqeuncy  Previous_Hosptalizations  Heart_Rate  \\\n",
       "0           -1.383068                  0.174535    0.877208   \n",
       "1            1.425768                 -1.063116   -1.132026   \n",
       "2           -1.383068                 -0.238016   -0.782594   \n",
       "3            0.723559                 -0.650566   -1.132026   \n",
       "4           -1.383068                  1.412185    0.702492   \n",
       "\n",
       "   Pneumonia_diagnosed  \n",
       "0                  0.0  \n",
       "1                  0.0  \n",
       "2                  0.0  \n",
       "3                  0.0  \n",
       "4                  0.0  "
      ]
     },
     "metadata": {},
     "output_type": "display_data"
    },
    {
     "name": "stdout",
     "output_type": "stream",
     "text": [
      "Total number of pneumonia cases: 779.0\n",
      "Total number of non-pneumonia cases: 1918.0\n",
      "Training and testing sets created.\n",
      "X_train shape: (2022, 9)\n",
      "X_test shape: (675, 9)\n",
      "y_train shape: (2022,)\n",
      "y_test shape: (675,)\n",
      "Best parameters for Logistic Regression: {'C': 0.01, 'penalty': 'l1'}\n",
      "Best parameters for Decision Tree: {'criterion': 'gini', 'max_depth': 3, 'min_samples_split': 2}\n"
     ]
    },
    {
     "data": {
      "image/png": "[encoded data removed]",
      "text/plain": [
       "<Figure size 500x400 with 2 Axes>"
      ]
     },
     "metadata": {},
     "output_type": "display_data"
    },
    {
     "data": {
      "image/png": "[encoded data removed]",
      "text/plain": [
       "<Figure size 500x400 with 2 Axes>"
      ]
     },
     "metadata": {},
     "output_type": "display_data"
    },
    {
     "name": "stdout",
     "output_type": "stream",
     "text": [
      "Logistic Regression:\n",
      " Precision: 0.5080906148867314\n",
      " Recall: 0.7621359223300971\n",
      " Accuracy: 0.7022222222222222\n",
      "Decision Tree:\n",
      " Precision: 0.4861111111111111\n",
      " Recall: 0.6796116504854369\n",
      " Accuracy: 0.682962962962963\n"
     ]
    }
   ],
   "source": [
    "df = read_infections_data()\n",
    "print(\"Raw data preview:\")\n",
    "display(df.head())\n",
    "\n",
    "df = remove_erronous_observations(df)\n",
    "print(\"After removing erroneous observations:\")\n",
    "display(df.head())\n",
    "\n",
    "df = remove_redundant_features(df)\n",
    "print(\"After removing redundant features:\")\n",
    "display(df.head())\n",
    "\n",
    "df = standardize_and_categorize_features(df)\n",
    "print(\"After standardizing and categorizing features:\")\n",
    "display(df.head())\n",
    "\n",
    "\n",
    "# amount of pneumonia cases\n",
    "print(\"Total number of pneumonia cases:\", df['Pneumonia_diagnosed'].sum())\n",
    "print(\"Total number of non-pneumonia cases:\", len(df) - df['Pneumonia_diagnosed'].sum())\n",
    "\n",
    "X_train, X_test, y_train, y_test = split_train_test(df)\n",
    "print(\"Training and testing sets created.\")\n",
    "print(\"X_train shape:\", X_train.shape)\n",
    "print(\"X_test shape:\", X_test.shape)\n",
    "print(\"y_train shape:\", y_train.shape)\n",
    "print(\"y_test shape:\", y_test.shape)\n",
    "\n",
    "model_lr, best_params_lr, grid_lr = train_LR(X_train, y_train)\n",
    "print(\"Best parameters for Logistic Regression:\", best_params_lr)\n",
    "\n",
    "model_dt, best_params_dt, grid_dt = train_DT(X_train, y_train)\n",
    "print(\"Best parameters for Decision Tree:\", best_params_dt)\n",
    "\n",
    "model_lr_best = train_LR_best_params(X_train, y_train, best_params_lr)\n",
    "model_dt_best = train_DT_best_params(X_train, y_train, best_params_dt)\n",
    "\n",
    "results = predict_evaluate(model_lr_best, model_dt_best, X_test, y_test)\n",
    "for model_name, metrics in results.items():\n",
    "    print(model_name + \":\")\n",
    "    print(\" Precision: \" + str(metrics['Precision']))\n",
    "    print(\" Recall: \" + str(metrics['Recall']))\n",
    "    print(\" Accuracy: \" + str(metrics['Accuracy']))\n",
    "plt.show()"
   ]
  },
  {
   "cell_type": "markdown",
   "id": "12f8d853",
   "metadata": {},
   "source": [
    "### Model Comparison Summary\n",
    "\n",
    "Logistic Regression performs better overall. It achieves the highest recall (0.76), meaning it detects more pneumonia cases, which is crucial in medical settings. It also slightly outperforms the Decision Tree in precision and accuracy. Therefore, Logistic Regression is the preferred model in this case."
   ]
  },
  {
   "cell_type": "markdown",
   "id": "925b6712",
   "metadata": {},
   "source": [
    "# Assignment 2, Exercise 2, K-means Clustrering\n"
   ]
  },
  {
   "cell_type": "markdown",
   "id": "4a7f1d9e",
   "metadata": {},
   "source": [
    "## Export Libraries"
   ]
  },
  {
   "cell_type": "markdown",
   "id": "ef9cd7e1-787e-4765-84a7-d5aeb23e9fc4",
   "metadata": {},
   "source": [
    "## Implementations"
   ]
  },
  {
   "cell_type": "code",
   "execution_count": 99,
   "id": "976823d7",
   "metadata": {
    "ExecuteTime": {
     "start_time": "2025-05-28T20:34:13.460588Z"
    }
   },
   "outputs": [],
   "source": [
    "# *** Write your code here to do statistical analysis***"
   ]
  },
  {
   "cell_type": "code",
   "execution_count": 100,
   "id": "7cb6a23a",
   "metadata": {
    "ExecuteTime": {
     "start_time": "2025-05-28T20:34:13.463064Z"
    }
   },
   "outputs": [],
   "source": [
    "# *** Write your code here to normalize the data and transform it to a number array***"
   ]
  },
  {
   "cell_type": "code",
   "execution_count": 101,
   "id": "f88058eb",
   "metadata": {
    "ExecuteTime": {
     "start_time": "2025-05-28T20:34:13.465216Z"
    }
   },
   "outputs": [],
   "source": [
    "# *** Insert your code here to analyze the number of clusters using inertia***"
   ]
  },
  {
   "cell_type": "code",
   "execution_count": 102,
   "id": "e892b294",
   "metadata": {
    "ExecuteTime": {
     "start_time": "2025-05-28T20:34:13.466931Z"
    }
   },
   "outputs": [],
   "source": [
    "# *** Insert your code here to analyze the number of clusters using Silhouette score***"
   ]
  }
 ],
 "metadata": {
  "kernelspec": {
   "display_name": "base",
   "language": "python",
   "name": "python3"
  },
  "language_info": {
   "codemirror_mode": {
    "name": "ipython",
    "version": 3
   },
   "file_extension": ".py",
   "mimetype": "text/x-python",
   "name": "python",
   "nbconvert_exporter": "python",
   "pygments_lexer": "ipython3",
   "version": "3.12.7"
  }
 },
 "nbformat": 4,
 "nbformat_minor": 5
}
